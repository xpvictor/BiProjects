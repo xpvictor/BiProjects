{
 "cells": [
  {
   "cell_type": "code",
   "execution_count": 4,
   "metadata": {},
   "outputs": [],
   "source": [
    "import pandas as pd\n",
    "import numpy as np"
   ]
  },
  {
   "cell_type": "code",
   "execution_count": null,
   "metadata": {},
   "outputs": [
    {
     "data": {
      "text/html": [
       "<div>\n",
       "<style scoped>\n",
       "    .dataframe tbody tr th:only-of-type {\n",
       "        vertical-align: middle;\n",
       "    }\n",
       "\n",
       "    .dataframe tbody tr th {\n",
       "        vertical-align: top;\n",
       "    }\n",
       "\n",
       "    .dataframe thead th {\n",
       "        text-align: right;\n",
       "    }\n",
       "</style>\n",
       "<table border=\"1\" class=\"dataframe\">\n",
       "  <thead>\n",
       "    <tr style=\"text-align: right;\">\n",
       "      <th></th>\n",
       "      <th>CustomerKey;Gender;Birth Date;Date first purchase;Total purchase;Customer type</th>\n",
       "    </tr>\n",
       "  </thead>\n",
       "  <tbody>\n",
       "    <tr>\n",
       "      <th>0</th>\n",
       "      <td>CUST1;Feminino;25/11/1993;29/10/2023;18;Recurr...</td>\n",
       "    </tr>\n",
       "    <tr>\n",
       "      <th>1</th>\n",
       "      <td>CUST2;;10/08/1965;21/11/2023;3;Recurring customer</td>\n",
       "    </tr>\n",
       "    <tr>\n",
       "      <th>2</th>\n",
       "      <td>CUST3;Feminino;16/11/1992;07/09/2023;14;Recurr...</td>\n",
       "    </tr>\n",
       "    <tr>\n",
       "      <th>3</th>\n",
       "      <td>CUST4;;05/03/1988;21/05/2024;16;Recurring cust...</td>\n",
       "    </tr>\n",
       "    <tr>\n",
       "      <th>4</th>\n",
       "      <td>CUST5;Masculino;09/01/1984;06/11/2023;3;Recurr...</td>\n",
       "    </tr>\n",
       "    <tr>\n",
       "      <th>...</th>\n",
       "      <td>...</td>\n",
       "    </tr>\n",
       "    <tr>\n",
       "      <th>995</th>\n",
       "      <td>CUST996;Masculino;24/08/1972;26/06/2024;1;New ...</td>\n",
       "    </tr>\n",
       "    <tr>\n",
       "      <th>996</th>\n",
       "      <td>CUST997;;28/02/1974;03/11/2023;1;New customer</td>\n",
       "    </tr>\n",
       "    <tr>\n",
       "      <th>997</th>\n",
       "      <td>CUST998;;26/05/1953;01/11/2024;1;New customer</td>\n",
       "    </tr>\n",
       "    <tr>\n",
       "      <th>998</th>\n",
       "      <td>CUST999;;08/03/1955;25/06/2024;1;New customer</td>\n",
       "    </tr>\n",
       "    <tr>\n",
       "      <th>999</th>\n",
       "      <td>CUST1000;Masculino;03/09/1971;25/11/2023;1;New...</td>\n",
       "    </tr>\n",
       "  </tbody>\n",
       "</table>\n",
       "<p>1000 rows × 1 columns</p>\n",
       "</div>"
      ],
      "text/plain": [
       "    CustomerKey;Gender;Birth Date;Date first purchase;Total purchase;Customer type\n",
       "0    CUST1;Feminino;25/11/1993;29/10/2023;18;Recurr...                            \n",
       "1    CUST2;;10/08/1965;21/11/2023;3;Recurring customer                            \n",
       "2    CUST3;Feminino;16/11/1992;07/09/2023;14;Recurr...                            \n",
       "3    CUST4;;05/03/1988;21/05/2024;16;Recurring cust...                            \n",
       "4    CUST5;Masculino;09/01/1984;06/11/2023;3;Recurr...                            \n",
       "..                                                 ...                            \n",
       "995  CUST996;Masculino;24/08/1972;26/06/2024;1;New ...                            \n",
       "996      CUST997;;28/02/1974;03/11/2023;1;New customer                            \n",
       "997      CUST998;;26/05/1953;01/11/2024;1;New customer                            \n",
       "998      CUST999;;08/03/1955;25/06/2024;1;New customer                            \n",
       "999  CUST1000;Masculino;03/09/1971;25/11/2023;1;New...                            \n",
       "\n",
       "[1000 rows x 1 columns]"
      ]
     },
     "metadata": {},
     "output_type": "display_data"
    }
   ],
   "source": [
    "df_sales = pd.read_excel('C:/Users/victo/OneDrive/Documentos/Cursos/Projetos em Power BI/Análise de cliente/sales_data.xlsx')"
   ]
  },
  {
   "cell_type": "code",
   "execution_count": null,
   "metadata": {},
   "outputs": [],
   "source": [
    "df_customer = pd.read_excel('C:/Users/victo/OneDrive/Documentos/Cursos/Projetos em Power BI/Análise de cliente/customer_data_analysis.xlsx')\n",
    "df_customer = df_customer[['CustomerKey','Gender','Birth Date','Date first purchase']]"
   ]
  },
  {
   "cell_type": "code",
   "execution_count": null,
   "metadata": {},
   "outputs": [],
   "source": [
    "#Creating a dataframe with values grouped by CustomerKey\n",
    "df_sales = df_sales.groupby('CustomerKey').agg({\n",
    "    'Quantidade SKU' : 'sum',\n",
    "    'Receita' : 'sum',\n",
    "    'ID order' : 'count'}).rename(columns ={\n",
    "    'ID order' : 'Sales',\n",
    "    'Quantidade SKU' : 'Quantity SKU',\n",
    "    'Receita' : 'Amount'})"
   ]
  },
  {
   "cell_type": "code",
   "execution_count": null,
   "metadata": {},
   "outputs": [],
   "source": [
    "#Adding a column to identify the customer type\n",
    "df_sales['Customer type'] = np.where(df_sales['Sales'] == 1, 'New customer', 'Recurring customer')\n",
    "df_sales = df_sales.reset_index()\n",
    "df_sales = df_sales.merge(df_customer,on='CustomerKey')"
   ]
  },
  {
   "cell_type": "code",
   "execution_count": null,
   "metadata": {},
   "outputs": [],
   "source": [
    "df_sales['Amount'] = df_sales['Amount'].apply(lambda x: str(x).replace('.',','))"
   ]
  },
  {
   "cell_type": "code",
   "execution_count": null,
   "metadata": {},
   "outputs": [],
   "source": []
  }
 ],
 "metadata": {
  "kernelspec": {
   "display_name": "Python 3",
   "language": "python",
   "name": "python3"
  },
  "language_info": {
   "codemirror_mode": {
    "name": "ipython",
    "version": 3
   },
   "file_extension": ".py",
   "mimetype": "text/x-python",
   "name": "python",
   "nbconvert_exporter": "python",
   "pygments_lexer": "ipython3",
   "version": "3.12.7"
  }
 },
 "nbformat": 4,
 "nbformat_minor": 2
}
